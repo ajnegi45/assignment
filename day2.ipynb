{
 "cells": [
  {
   "cell_type": "code",
   "execution_count": 1,
   "id": "defa3c42",
   "metadata": {},
   "outputs": [],
   "source": [
    "name= \"Ajay\""
   ]
  },
  {
   "cell_type": "code",
   "execution_count": 2,
   "id": "89bc1dca",
   "metadata": {},
   "outputs": [],
   "source": [
    "age=22"
   ]
  },
  {
   "cell_type": "code",
   "execution_count": 3,
   "id": "7b868f3b",
   "metadata": {},
   "outputs": [],
   "source": [
    "country=\"INDIA\""
   ]
  },
  {
   "cell_type": "code",
   "execution_count": 4,
   "id": "b9e9209a",
   "metadata": {},
   "outputs": [],
   "source": [
    "bool= True"
   ]
  },
  {
   "cell_type": "code",
   "execution_count": 5,
   "id": "341b47be",
   "metadata": {},
   "outputs": [
    {
     "name": "stdout",
     "output_type": "stream",
     "text": [
      "my name is ajay . I am 22 years old and i am from INDIA and i am here to learn python? True \n"
     ]
    }
   ],
   "source": [
    "print(\"my name is %s . I am %s years old and i am from %s and i am here to learn python? %s \"%\\\n",
    "     (name, age, country, bool))"
   ]
  },
  {
   "cell_type": "code",
   "execution_count": 6,
   "id": "33cdfff9",
   "metadata": {},
   "outputs": [
    {
     "name": "stdout",
     "output_type": "stream",
     "text": [
      "my name is ajay . I am 22 years old and i am from INDIA and i am here to learn python? True \n"
     ]
    }
   ],
   "source": [
    "print(\"my name is {} . I am {} years old and i am from {} and i am here to learn python? {} \"\n",
    "     .format(name, age, country, bool))"
   ]
  },
  {
   "cell_type": "code",
   "execution_count": 9,
   "id": "df41ed00",
   "metadata": {},
   "outputs": [
    {
     "name": "stdout",
     "output_type": "stream",
     "text": [
      "my name is ajay . I am 22 years old and i am from INDIA and i am here to learn python? True \n"
     ]
    }
   ],
   "source": [
    "print(f'my name is {name} . I am {age} years old and i am from {country} and i am here to learn python? {bool} ')"
   ]
  },
  {
   "cell_type": "code",
   "execution_count": 27,
   "id": "b7d687ca",
   "metadata": {},
   "outputs": [],
   "source": [
    "tuff=[\"table of 10\",10,20,30,40,50,60,70,80,90,100]"
   ]
  },
  {
   "cell_type": "code",
   "execution_count": 28,
   "id": "34c26253",
   "metadata": {},
   "outputs": [
    {
     "name": "stdout",
     "output_type": "stream",
     "text": [
      "table of 10\n",
      "10\n",
      "20\n",
      "30\n",
      "40\n",
      "50\n",
      "60\n",
      "70\n",
      "80\n",
      "90\n",
      "100\n"
     ]
    }
   ],
   "source": [
    "for i in tuff:\n",
    " print(i)"
   ]
  },
  {
   "cell_type": "code",
   "execution_count": 11,
   "id": "5f565770",
   "metadata": {},
   "outputs": [],
   "source": [
    "dic_r={}"
   ]
  },
  {
   "cell_type": "code",
   "execution_count": 13,
   "id": "f36564ef",
   "metadata": {},
   "outputs": [],
   "source": [
    "dic_r['fruit']='apple'"
   ]
  },
  {
   "cell_type": "code",
   "execution_count": 14,
   "id": "098a16ba",
   "metadata": {},
   "outputs": [],
   "source": [
    "dic_r['animal']='horse'"
   ]
  },
  {
   "cell_type": "code",
   "execution_count": 15,
   "id": "7714ee10",
   "metadata": {},
   "outputs": [],
   "source": [
    "dic_r['flower']='rose'"
   ]
  },
  {
   "cell_type": "code",
   "execution_count": 16,
   "id": "1cd2c552",
   "metadata": {},
   "outputs": [],
   "source": [
    "dic_r['planet']='mars'"
   ]
  },
  {
   "cell_type": "code",
   "execution_count": 24,
   "id": "21c163e2",
   "metadata": {},
   "outputs": [
    {
     "name": "stdout",
     "output_type": "stream",
     "text": [
      "fruit apple\n",
      "animal horse\n",
      "flower rose\n",
      "planet mars\n"
     ]
    }
   ],
   "source": [
    "for key, value in dic_r.items():\n",
    " print(key,value)"
   ]
  },
  {
   "cell_type": "code",
   "execution_count": 65,
   "id": "85685d54",
   "metadata": {},
   "outputs": [],
   "source": [
    "things=list()"
   ]
  },
  {
   "cell_type": "code",
   "execution_count": 66,
   "id": "9cfe73b9",
   "metadata": {},
   "outputs": [],
   "source": [
    "things.append(23)"
   ]
  },
  {
   "cell_type": "code",
   "execution_count": 68,
   "id": "e624d4af",
   "metadata": {},
   "outputs": [],
   "source": [
    "things.append(575)"
   ]
  },
  {
   "cell_type": "code",
   "execution_count": 69,
   "id": "fbbe78bb",
   "metadata": {},
   "outputs": [],
   "source": [
    "things.append([45,35,467])"
   ]
  },
  {
   "cell_type": "code",
   "execution_count": 71,
   "id": "18c20a24",
   "metadata": {},
   "outputs": [],
   "source": [
    "things.append([\"books\",\"bag\"])"
   ]
  },
  {
   "cell_type": "code",
   "execution_count": 72,
   "id": "3832bcbd",
   "metadata": {},
   "outputs": [
    {
     "name": "stdout",
     "output_type": "stream",
     "text": [
      "23\n",
      "575\n",
      "[45, 35, 467]\n",
      "['books', 'bag']\n"
     ]
    }
   ],
   "source": [
    "for i in things:\n",
    "    print(i)"
   ]
  },
  {
   "cell_type": "code",
   "execution_count": 73,
   "id": "c110373a",
   "metadata": {},
   "outputs": [],
   "source": [
    "total={21,45,34,90}"
   ]
  },
  {
   "cell_type": "code",
   "execution_count": 74,
   "id": "dbe707be",
   "metadata": {},
   "outputs": [
    {
     "data": {
      "text/plain": [
       "set"
      ]
     },
     "execution_count": 74,
     "metadata": {},
     "output_type": "execute_result"
    }
   ],
   "source": [
    "type(total)"
   ]
  },
  {
   "cell_type": "code",
   "execution_count": null,
   "id": "4752a6fc",
   "metadata": {},
   "outputs": [],
   "source": []
  }
 ],
 "metadata": {
  "kernelspec": {
   "display_name": "Python 3 (ipykernel)",
   "language": "python",
   "name": "python3"
  },
  "language_info": {
   "codemirror_mode": {
    "name": "ipython",
    "version": 3
   },
   "file_extension": ".py",
   "mimetype": "text/x-python",
   "name": "python",
   "nbconvert_exporter": "python",
   "pygments_lexer": "ipython3",
   "version": "3.10.1"
  }
 },
 "nbformat": 4,
 "nbformat_minor": 5
}
